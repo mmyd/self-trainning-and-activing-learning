{
 "cells": [
  {
   "cell_type": "code",
   "execution_count": 149,
   "metadata": {},
   "outputs": [],
   "source": [
    "import pandas as pd\n",
    "import seaborn as sns\n",
    "import numpy as np\n",
    "import sklearn\n",
    "import matplotlib.pyplot as plt\n",
    "from pandas import  *\n",
    "from numpy import *\n",
    "from sklearn import *\n",
    "import warnings\n",
    "from sklearn.preprocessing import Imputer\n",
    "warnings.filterwarnings('ignore')\n",
    "inf552= pd.read_csv(\"C:\\\\Users\\\\DELL\\\\Desktop\\\\INF552\\\\HM6\\\\data_banknote_authentication.csv\",header=None,names=list(range(0,4))+['class'])"
   ]
  },
  {
   "cell_type": "code",
   "execution_count": 150,
   "metadata": {},
   "outputs": [
    {
     "name": "stdout",
     "output_type": "stream",
     "text": [
      "the accuracy for λ = 10−3 is:  0.8977777777777778\n",
      "the accuracy for λ = 10+2 is:  0.9911111111111112\n",
      "the accuracy will not below 60% for λ = 10−3 and λ = 10+2\n"
     ]
    }
   ],
   "source": [
    "#  Choose 472 data points randomly as the test set, and the remaining 900 points as the training set\n",
    "from sklearn.svm import LinearSVC\n",
    "test=inf552.sample(n=472,random_state=123 ,axis=0)\n",
    "train=inf552.drop(index=test.index)\n",
    "#determine the ranges for λ that keep the accuracy above a threshold (e.g.60%)\n",
    "cls1 = LinearSVC(penalty='l1',random_state=123,dual=False,C=10**(-3)).fit(train[list(range(0,4))], train['class'])\n",
    "print('the accuracy for λ = 10−3 is: ',cls1.score(train[list(range(0,4))], train['class']))\n",
    "cls2 = LinearSVC(penalty='l1',random_state=123,dual=False,C=10**(2)).fit(train[list(range(0,4))], train['class'])\n",
    "print('the accuracy for λ = 10+2 is: ',cls2.score(train[list(range(0,4))], train['class']))\n",
    "print('the accuracy will not below 60% for λ = 10−3 and λ = 10+2')"
   ]
  },
  {
   "cell_type": "code",
   "execution_count": 153,
   "metadata": {},
   "outputs": [],
   "source": [
    "# passive learning\n",
    "# Train a SVM with a pool of 10 selected data points from the trainset(90 times)\n",
    "from sklearn.model_selection import GridSearchCV\n",
    "import sklearn.metrics \n",
    "errors=[]\n",
    "for i in range(50):\n",
    "    error=[]\n",
    "    testset=test\n",
    "    trainset=train\n",
    "    train_pool=trainset.sample(n=10,axis=0)\n",
    "    # If all selected data points are from one class, select another set of 10 data points randomly.\n",
    "    while len(train_pool['class'].value_counts())==1:\n",
    "         train_pool=trainset.sample(n=10,axis=0)\n",
    "    trainset=trainset.drop(index=train_pool.index)\n",
    "    # Determine the weight of the SVM penalty \n",
    "    C_range1 = np.logspace(-3, 2, 5)\n",
    "    param_grid1 = dict(C=C_range1)\n",
    "    passive_cls = LinearSVC(penalty='l1',dual=False)\n",
    "    passive_model =  GridSearchCV(passive_cls, param_grid=param_grid1, cv=KFold(n_splits=10)).fit(train_pool[list(range(0,4))], train_pool['class'])\n",
    "    test_pred=passive_model.predict(testset[list(range(0,4))]);\n",
    "    error.append(1-metrics.accuracy_score(testset['class'], test_pred))\n",
    "    for i in range(89):\n",
    "        new_pool=trainset.sample(n=10,axis=0)\n",
    "        train_pool=train_pool.append(new_pool)\n",
    "        trainset=trainset.drop(index=new_pool.index)\n",
    "        C_range1 = np.logspace(-3, 2, 5)\n",
    "        param_grid1 = dict(C=C_range1)\n",
    "        passive_cls = LinearSVC(penalty='l1',dual=False)\n",
    "        passive_model =  GridSearchCV(passive_cls, param_grid=param_grid1, cv=10).fit(train_pool[list(range(0,4))], train_pool['class'])\n",
    "        test_pred=passive_model.predict(testset[list(range(0,4))]);\n",
    "        error.append(1-metrics.accuracy_score(testset['class'], test_pred))\n",
    "    errors.append(error)"
   ]
  },
  {
   "cell_type": "code",
   "execution_count": 173,
   "metadata": {},
   "outputs": [],
   "source": [
    "# active learning\n",
    "# Train a SVM with a pool of 10 selected data points from the trainset(90 times)\n",
    "errors2=[]\n",
    "for i in range(50):\n",
    "    error2=[]\n",
    "    testset2=test\n",
    "    trainset2=train\n",
    "    train_pool2=trainset2.sample(n=10,axis=0)\n",
    "    # If all selected data points are from one class, select another set of 10 data points randomly.\n",
    "    while len(train_pool2['class'].value_counts())==1:\n",
    "         train_pool2=trainset2.sample(n=10,axis=0)\n",
    "    trainset2=trainset2.drop(index=train_pool2.index)\n",
    "    # Determine the weight of the SVM penalty \n",
    "    C_range2 = np.logspace(-3, 2, 5)\n",
    "    param_grid2 = dict(C=C_range2)\n",
    "    active_cls = LinearSVC(penalty='l1',dual=False)\n",
    "    active_model =  GridSearchCV(active_cls, param_grid=param_grid2, cv=KFold(n_splits=10)).fit(train_pool2[list(range(0,4))], train_pool2['class'])\n",
    "    test_pred2=active_model.predict(testset2[list(range(0,4))]);\n",
    "    error2.append(1-metrics.accuracy_score(testset2['class'], test_pred2))\n",
    "    for j in range(89):\n",
    "        # Choose the 10 closest data points in the training set to the hyperplane of the SVM\n",
    "        aa=(active_model.decision_function(trainset2[list(range(0,4))])).tolist();\n",
    "        w_norm = np.linalg.norm(active_model.best_estimator_.coef_);dist=aa/ w_norm;\n",
    "        ind = np.argsort(dist)[:10];\n",
    "        new_pool2=trainset2.iloc[ind,:]\n",
    "        train_pool2=train_pool2.append(new_pool2)\n",
    "        trainset2=trainset2.drop(index=new_pool2.index)\n",
    "        C_range2 = np.logspace(-3, 2, 5)\n",
    "        param_grid2 = dict(C=C_range2)\n",
    "        active_cls = LinearSVC(penalty='l1',dual=False)\n",
    "        active_model =  GridSearchCV(active_cls, param_grid=param_grid2, cv=10).fit(train_pool2[list(range(0,4))], train_pool2['class'])\n",
    "        test_pred2=active_model.predict(testset2[list(range(0,4))]);\n",
    "        error2.append(1-metrics.accuracy_score(testset2['class'], test_pred2))\n",
    "    errors2.append(error2)"
   ]
  },
  {
   "cell_type": "code",
   "execution_count": 174,
   "metadata": {},
   "outputs": [
    {
     "data": {
      "image/png": "[encoded data removed]",
      "text/plain": [
       "<Figure size 720x360 with 1 Axes>"
      ]
     },
     "metadata": {
      "needs_background": "light"
     },
     "output_type": "display_data"
    }
   ],
   "source": [
    "# Plot the average test error versus number of training instances\n",
    "trans_errors=np.transpose(errors);trans_errors2=np.transpose(errors2);\n",
    "passive_errors=[];active_errors=[];\n",
    "for i in range(90):\n",
    "    passive_errors.append(trans_errors[i].mean());\n",
    "    active_errors.append(trans_errors2[i].mean());\n",
    "means={\"passive_errors\":passive_errors,\"active_errors\":active_errors}\n",
    "means=DataFrame(means)\n",
    "#errors.index = range(10,901,10)\n",
    "plt.figure(figsize=(10,5))\n",
    "xlist1 = means.iloc[:,0]\n",
    "xlist2 = means.iloc[:,1]\n",
    "ylist = list(range(10,901,10))\n",
    "plt.title(\"Plot of passive and active test errors\") \n",
    "plt.xlabel(\" number of training instances\")\n",
    "plt.ylabel(\"test error rate\")\n",
    "plt.plot(ylist,xlist1,\"b-o\")\n",
    "plt.plot(ylist,xlist2,\"r-o\")\n",
    "plt.legend(loc='best')\n",
    "plt.show()"
   ]
  },
  {
   "cell_type": "code",
   "execution_count": 1,
   "metadata": {},
   "outputs": [
    {
     "name": "stdout",
     "output_type": "stream",
     "text": [
      "the conclusion: when the number of trainning instances is small, the passive learning is better than active one.\n",
      "when the number of instances is large enough, there is a slightly difference between passive and active learning.\n"
     ]
    }
   ],
   "source": [
    "print('the conclusion: when the number of trainning instances is small, the passive learning is better than active one.')\n",
    "print('when the number of instances is large enough, there is a slightly difference between passive and active learning.')"
   ]
  }
 ],
 "metadata": {
  "kernelspec": {
   "display_name": "Python 3",
   "language": "python",
   "name": "python3"
  },
  "language_info": {
   "codemirror_mode": {
    "name": "ipython",
    "version": 3
   },
   "file_extension": ".py",
   "mimetype": "text/x-python",
   "name": "python",
   "nbconvert_exporter": "python",
   "pygments_lexer": "ipython3",
   "version": "3.6.6"
  }
 },
 "nbformat": 4,
 "nbformat_minor": 2
}
